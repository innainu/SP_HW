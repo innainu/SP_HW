{
 "cells": [
  {
   "cell_type": "code",
   "execution_count": 3,
   "metadata": {
    "collapsed": true
   },
   "outputs": [],
   "source": [
    "%matplotlib inline\n",
    "import numpy as np\n",
    "import pandas as pd\n",
    "import scipy as sp\n",
    "import matplotlib.pyplot as plt"
   ]
  },
  {
   "cell_type": "markdown",
   "metadata": {},
   "source": [
    "### Task1: HaarWaveletTransform"
   ]
  },
  {
   "cell_type": "markdown",
   "metadata": {},
   "source": [
    "1. Write a function haar(x) which takes a signal x, given as a sequence of floating-point numbers, and returns the Haar transformed signal. Recall that the Haar transform only works on a signal which has a length of 2^n. For this part of the assignment, you can assume that x has a length which is a power of 2. The transformed result X should have the same length as x."
   ]
  },
  {
   "cell_type": "code",
   "execution_count": 4,
   "metadata": {
    "collapsed": false
   },
   "outputs": [],
   "source": [
    "def I(x):\n",
    "    temp = []\n",
    "    for i in xrange(1, len(x), 2):\n",
    "        temp.append((x[i] + x[i-1])/float(2))\n",
    "    return temp\n",
    "\n",
    "def haar(x):\n",
    "    transformed = []\n",
    "    for i in xrange(0, len(x)-2, 2):\n",
    "        I_temp = I(x)\n",
    "        temp = []\n",
    "        for j in xrange(0, len(I_temp),1):\n",
    "            temp.extend([x[j*2] - I_temp[j]])\n",
    "        x = I_temp\n",
    "        transformed = temp + transformed\n",
    "        if len(x) == 1:\n",
    "            transformed = x + transformed    \n",
    "    return transformed "
   ]
  },
  {
   "cell_type": "code",
   "execution_count": 3,
   "metadata": {
    "collapsed": false
   },
   "outputs": [
    {
     "data": {
      "text/plain": [
       "list"
      ]
     },
     "execution_count": 3,
     "metadata": {},
     "output_type": "execute_result"
    }
   ],
   "source": [
    "a = [9, 7, 3, 5, 6, 10, 2, 6]\n",
    "type(a)"
   ]
  },
  {
   "cell_type": "code",
   "execution_count": 4,
   "metadata": {
    "collapsed": false
   },
   "outputs": [
    {
     "data": {
      "text/plain": [
       "[6.0, 0.0, 2.0, 2.0, 1.0, -1.0, -2.0, -2.0]"
      ]
     },
     "execution_count": 4,
     "metadata": {},
     "output_type": "execute_result"
    }
   ],
   "source": [
    "haar(a)"
   ]
  },
  {
   "cell_type": "markdown",
   "metadata": {},
   "source": [
    "2. Write a function inverse_haar(X) which reverses the Haar transformation. You can also assume that X has a length which is a power of 2."
   ]
  },
  {
   "cell_type": "code",
   "execution_count": 5,
   "metadata": {
    "collapsed": false
   },
   "outputs": [],
   "source": [
    "def inverse_haar(X):\n",
    "    N = 1\n",
    "    x = [X[0]] \n",
    "    while True:\n",
    "        N*=2\n",
    "        y = [0] * N\n",
    "        for i in xrange(len(x)):\n",
    "            y[2 * i] = x[i] + X[i + N/2]\n",
    "            y[2 * i + 1] = x[i] - X[i + N/2]\n",
    "        if (len(y) == len(X)):\n",
    "            return y\n",
    "        x = y\n",
    "        "
   ]
  },
  {
   "cell_type": "code",
   "execution_count": 71,
   "metadata": {
    "collapsed": true
   },
   "outputs": [],
   "source": [
    "haar_ex = [6,0, 2, 2, 1, -1, -2, -2]"
   ]
  },
  {
   "cell_type": "code",
   "execution_count": 72,
   "metadata": {
    "collapsed": false
   },
   "outputs": [],
   "source": [
    "a = [9, 7, 3, 5]\n",
    "b = haar(a)"
   ]
  },
  {
   "cell_type": "code",
   "execution_count": 73,
   "metadata": {
    "collapsed": false
   },
   "outputs": [
    {
     "name": "stdout",
     "output_type": "stream",
     "text": [
      "[0, 0]\n"
     ]
    },
    {
     "data": {
      "text/plain": [
       "[0.0, 2.0]"
      ]
     },
     "execution_count": 73,
     "metadata": {},
     "output_type": "execute_result"
    }
   ],
   "source": [
    "inverse_haar(b)"
   ]
  },
  {
   "cell_type": "code",
   "execution_count": 55,
   "metadata": {
    "collapsed": false
   },
   "outputs": [
    {
     "data": {
      "text/plain": [
       "[9, 7, 3, 5, 6, 10, 2, 6]"
      ]
     },
     "execution_count": 55,
     "metadata": {},
     "output_type": "execute_result"
    }
   ],
   "source": [
    "inverse_haar(haar_ex)"
   ]
  },
  {
   "cell_type": "markdown",
   "metadata": {},
   "source": [
    "### Task 2: Smoothing accelerometer data\n",
    "We are going to use the Haar transform to analyze the signal from a smartphone accelerometer as the user performs various actions. "
   ]
  },
  {
   "cell_type": "code",
   "execution_count": 7,
   "metadata": {
    "collapsed": false
   },
   "outputs": [
    {
     "name": "stdout",
     "output_type": "stream",
     "text": [
      "Press [Enter] to finish\n"
     ]
    },
    {
     "ename": "SyntaxError",
     "evalue": "unexpected EOF while parsing (<string>, line 0)",
     "output_type": "error",
     "traceback": [
      "\u001b[0;36m  File \u001b[0;32m\"<string>\"\u001b[0;36m, line \u001b[0;32munknown\u001b[0m\n\u001b[0;31m    \u001b[0m\n\u001b[0m    ^\u001b[0m\n\u001b[0;31mSyntaxError\u001b[0m\u001b[0;31m:\u001b[0m unexpected EOF while parsing\n"
     ]
    },
    {
     "data": {
      "image/png": "[encoded data removed]",
      "text/plain": [
       "<matplotlib.figure.Figure at 0x1032d7290>"
      ]
     },
     "metadata": {},
     "output_type": "display_data"
    }
   ],
   "source": [
    "#example code from \"accel_example.py\"\n",
    "# loads an accelerometer reading from a file, and graphs the signal from one direction of motion. \n",
    "import pylab\n",
    "\n",
    "def graph_accel(signal):\n",
    "\tpylab.ion()\n",
    "\tpylab.figure()\n",
    "\tpylab.plot(signal)\n",
    "\tpylab.ioff()\n",
    "\n",
    "if __name__ == '__main__':\n",
    "\tf = open('./Data/accel.csv', 'r')\n",
    "\n",
    "# Get just the displacement in the x coordinate\n",
    "\tx = [float(line.split(',')[6]) for line in f]\n",
    "\n",
    "# Graph it, and save figure as a .png\n",
    "\tgraph_accel(x)\n",
    "\tpylab.savefig('accel.png')\n",
    "\n",
    "# Wait for the user to continue (exiting the script closes all figures)\n",
    "\tinput('Press [Enter] to finish')"
   ]
  },
  {
   "cell_type": "markdown",
   "metadata": {},
   "source": [
    "### A. Haartransformeddata\n",
    "1. Use the function you wrote in Task 1 to transform the data. Recall that Haar requires input\n",
    "which has a length of 2^n, so you should first trim the input to the largest 2^n-sized\n",
    "subsequence."
   ]
  },
  {
   "cell_type": "code",
   "execution_count": 53,
   "metadata": {
    "collapsed": false
   },
   "outputs": [],
   "source": [
    "accel_data = np.loadtxt(\"./Data/accel.csv\", delimiter = \",\")"
   ]
  },
  {
   "cell_type": "code",
   "execution_count": 54,
   "metadata": {
    "collapsed": false
   },
   "outputs": [
    {
     "name": "stdout",
     "output_type": "stream",
     "text": [
      "(499, 9)\n",
      "8.96289600534\n",
      "256\n"
     ]
    }
   ],
   "source": [
    "#there are 9 wavelets, each of length 499\n",
    "#trim to 2^8\n",
    "import math\n",
    "print accel_data.shape\n",
    "print math.log(499, 2)\n",
    "print pow(2,8)\n"
   ]
  },
  {
   "cell_type": "code",
   "execution_count": 55,
   "metadata": {
    "collapsed": false
   },
   "outputs": [
    {
     "data": {
      "text/plain": [
       "256"
      ]
     },
     "execution_count": 55,
     "metadata": {},
     "output_type": "execute_result"
    }
   ],
   "source": [
    "len(accel_data[:256])"
   ]
  },
  {
   "cell_type": "code",
   "execution_count": 56,
   "metadata": {
    "collapsed": false
   },
   "outputs": [],
   "source": [
    "# trim accel_data to 2^8\n",
    "accel_trimmed = accel_data[:256]"
   ]
  },
  {
   "cell_type": "code",
   "execution_count": 57,
   "metadata": {
    "collapsed": false
   },
   "outputs": [
    {
     "data": {
      "text/plain": [
       "(256, 9)"
      ]
     },
     "execution_count": 57,
     "metadata": {},
     "output_type": "execute_result"
    }
   ],
   "source": [
    "accel_trimmed.shape"
   ]
  },
  {
   "cell_type": "code",
   "execution_count": 58,
   "metadata": {
    "collapsed": false
   },
   "outputs": [
    {
     "name": "stdout",
     "output_type": "stream",
     "text": [
      "256\n",
      "256\n",
      "256\n",
      "256\n",
      "256\n",
      "256\n",
      "256\n",
      "256\n",
      "256\n"
     ]
    }
   ],
   "source": [
    "for i in accel_trimmed.T:\n",
    "    print len(i)"
   ]
  },
  {
   "cell_type": "code",
   "execution_count": 59,
   "metadata": {
    "collapsed": false
   },
   "outputs": [],
   "source": [
    "#function to calculate haar transform for matrix\n",
    "def find_transform(x):\n",
    "    X = []\n",
    "    for col in x.T:\n",
    "        X.append(haar(col))\n",
    "    X = np.asarray(X)\n",
    "    return X.T\n",
    "\n",
    "def find_inverse(X):\n",
    "    x = []\n",
    "    for col in X.T:\n",
    "        x.append(inverse_haar(col))\n",
    "    x = np.asarray(x)\n",
    "    return x.T"
   ]
  },
  {
   "cell_type": "code",
   "execution_count": 60,
   "metadata": {
    "collapsed": false
   },
   "outputs": [],
   "source": [
    "accel_X = find_transform(accel_trimmed)"
   ]
  },
  {
   "cell_type": "code",
   "execution_count": 61,
   "metadata": {
    "collapsed": false
   },
   "outputs": [
    {
     "data": {
      "text/plain": [
       "array([ True], dtype=bool)"
      ]
     },
     "execution_count": 61,
     "metadata": {},
     "output_type": "execute_result"
    }
   ],
   "source": [
    "np.unique(accel_X[:,0] ==haar(accel_trimmed[:,0]))"
   ]
  },
  {
   "cell_type": "markdown",
   "metadata": {},
   "source": [
    "2. Graph the result using graph_accel()"
   ]
  },
  {
   "cell_type": "code",
   "execution_count": 62,
   "metadata": {
    "collapsed": false
   },
   "outputs": [
    {
     "data": {
      "image/png": "[encoded data removed]",
      "text/plain": [
       "<matplotlib.figure.Figure at 0x10a3efe10>"
      ]
     },
     "metadata": {},
     "output_type": "display_data"
    }
   ],
   "source": [
    "signal = accel_X[:,6]\n",
    "graph_accel(signal)\n",
    "pylab.savefig('accel_haar.png')"
   ]
  },
  {
   "cell_type": "markdown",
   "metadata": {},
   "source": [
    "### B. Haar transforms and “edges”\n",
    "we can use the Haar transform to find rapid changes in the signal, or “steps”.\n",
    "First, look at just the second half (i.e., the last 2n-1 entries) of the Haar-transformed signal. These correspond to pairwise differences of individual entries of the original signal. These are typically referred to as the first-order differences, so we'll denote this by X1.\n",
    "\n",
    "Write a function to find the 5 biggest positive entries of the pairwise differences X1, and the 5 most negative entries. Briefly (one or two sentences) describe what is happening to the original signal at the locations corresponding to these points.\n",
    "\n",
    "if we find the biggest positive differences of X1, the original signal has more variability at the locations corresponding to these points. (e.g. could have a sudden high peak, or sudden low peak)\n",
    "if we find the smallest differences, the original signal has less variability at the locations corresponding to these points and will look more flat."
   ]
  },
  {
   "cell_type": "code",
   "execution_count": 153,
   "metadata": {
    "collapsed": false
   },
   "outputs": [
    {
     "data": {
      "text/plain": [
       "array([ 0.034155 ,  0.045855 ,  0.0467825,  0.0598505,  0.070564 ])"
      ]
     },
     "execution_count": 153,
     "metadata": {},
     "output_type": "execute_result"
    }
   ],
   "source": [
    "a = accel_X.T[0]\n",
    "sor = a[128:][a[128:].argsort()]\n",
    "sor[128-5:128]"
   ]
  },
  {
   "cell_type": "code",
   "execution_count": 9,
   "metadata": {
    "collapsed": true
   },
   "outputs": [],
   "source": [
    "def five_Biggest(X):\n",
    "    half = X.shape[0]/2\n",
    "    biggest = []\n",
    "    for col in X.T:\n",
    "        sorted_X = col[half:][col[half:].argsort()]\n",
    "        biggest.append(sorted_X[half-5:half])\n",
    "    return biggest\n",
    "\n",
    "def five_Smallest(X):\n",
    "    half = X.shape[0]/2\n",
    "    smallest = []\n",
    "    for col in X.T:\n",
    "        sorted_X = col[half:][col[half:].argsort()]\n",
    "        smallest.append(sorted_X[0:5])\n",
    "    return smallest\n",
    "        \n",
    "        "
   ]
  },
  {
   "cell_type": "code",
   "execution_count": 154,
   "metadata": {
    "collapsed": false
   },
   "outputs": [
    {
     "name": "stdout",
     "output_type": "stream",
     "text": [
      "[ 0.034155   0.045855   0.0467825  0.0598505  0.070564 ]\n"
     ]
    }
   ],
   "source": [
    "X_biggest = five_Biggest(accel_X)\n",
    "print X_biggest[0]"
   ]
  },
  {
   "cell_type": "code",
   "execution_count": 155,
   "metadata": {
    "collapsed": false
   },
   "outputs": [
    {
     "name": "stdout",
     "output_type": "stream",
     "text": [
      "[-0.053964  -0.052482  -0.0465085 -0.03912   -0.0375595]\n"
     ]
    }
   ],
   "source": [
    "X_smallest = five_Smallest(accel_X)\n",
    "print X_smallest[0]"
   ]
  },
  {
   "cell_type": "markdown",
   "metadata": {},
   "source": [
    "### C. Smoothing\n",
    "Loosely speaking, the second half of the Haar transformed signal captures rapid changes in the original signal, while the earlier entries capture more slowly varying changes. This suggests that we can get a smoothed version of the input by ignoring the information in the second half of the Haar-transformed signal.\n",
    "In particular, we already have a way of inverting the Haar-transform, the function inverse_haar(X) that you wrote earlier. So, we can just throw away the information corresponding to rapid changes, and take the inverse transform of the result. Let's see what happens when we do this."
   ]
  },
  {
   "cell_type": "markdown",
   "metadata": {},
   "source": [
    "1. First, take the original signal x and compute its Haar-transform X. Call inverse_haar(X) and graph the result. Compare the result to the original signal (hint: they should be identical)."
   ]
  },
  {
   "cell_type": "code",
   "execution_count": 76,
   "metadata": {
    "collapsed": false
   },
   "outputs": [
    {
     "data": {
      "image/png": "[encoded data removed]",
      "text/plain": [
       "<matplotlib.figure.Figure at 0x1166af7d0>"
      ]
     },
     "metadata": {},
     "output_type": "display_data"
    }
   ],
   "source": [
    "#original signal\n",
    "graph_accel(accel_trimmed[:,6])\n",
    "plt.title('Original Signal')\n",
    "pylab.savefig('accel.png')"
   ]
  },
  {
   "cell_type": "code",
   "execution_count": 74,
   "metadata": {
    "collapsed": false
   },
   "outputs": [
    {
     "data": {
      "image/png": "[encoded data removed]",
      "text/plain": [
       "<matplotlib.figure.Figure at 0x1115c1d10>"
      ]
     },
     "metadata": {},
     "output_type": "display_data"
    }
   ],
   "source": [
    "#haar transform\n",
    "graph_accel(accel_X[:,6])\n",
    "plt.title('Haar-transform')\n",
    "pylab.savefig('accel_haar.png')"
   ]
  },
  {
   "cell_type": "code",
   "execution_count": 75,
   "metadata": {
    "collapsed": false
   },
   "outputs": [
    {
     "data": {
      "image/png": "[encoded data removed]",
      "text/plain": [
       "<matplotlib.figure.Figure at 0x10d7a6890>"
      ]
     },
     "metadata": {},
     "output_type": "display_data"
    }
   ],
   "source": [
    "inverse_X = find_inverse(accel_X)\n",
    "graph_accel(inverse_X[:,6])\n",
    "plt.title('Inverse of Haar-Transform')\n",
    "pylab.savefig('accel_haar_inverse.png')"
   ]
  },
  {
   "cell_type": "markdown",
   "metadata": {},
   "source": [
    "2) Start with the Haar-transformed signal X, and truncate X to the first 2^(n-1) entries. Take the inverse Haar-transform of this truncated X, and graph the result."
   ]
  },
  {
   "cell_type": "code",
   "execution_count": 64,
   "metadata": {
    "collapsed": false
   },
   "outputs": [
    {
     "data": {
      "text/plain": [
       "128"
      ]
     },
     "execution_count": 64,
     "metadata": {},
     "output_type": "execute_result"
    }
   ],
   "source": [
    "len(accel_X)\n",
    "math.log(len(accel_X), 2)\n",
    "pow(2,7)"
   ]
  },
  {
   "cell_type": "code",
   "execution_count": 65,
   "metadata": {
    "collapsed": false
   },
   "outputs": [],
   "source": [
    "#function that truncates X to the first 2^(n-k)\n",
    "def truncate(X, k):\n",
    "    N = math.log(len(X),2)\n",
    "    new_len = pow(2, (N-k))\n",
    "    return X[:new_len]\n",
    "    "
   ]
  },
  {
   "cell_type": "code",
   "execution_count": 66,
   "metadata": {
    "collapsed": false
   },
   "outputs": [
    {
     "name": "stdout",
     "output_type": "stream",
     "text": [
      "[  2.95644336e-02  -9.96266367e-01  -8.37162891e-03   1.49650391e+00\n",
      "   9.41646449e-01  -7.58719492e-01  -2.53242656e+01  -4.23626406e+01\n",
      "   4.00718644e+00]\n"
     ]
    }
   ],
   "source": [
    "#truncate X with k = 1\n",
    "truncate_1 = truncate(accel_X, 1)\n",
    "print truncate_1[0]"
   ]
  },
  {
   "cell_type": "code",
   "execution_count": 78,
   "metadata": {
    "collapsed": false
   },
   "outputs": [
    {
     "data": {
      "image/png": "[encoded data removed]",
      "text/plain": [
       "<matplotlib.figure.Figure at 0x10674be90>"
      ]
     },
     "metadata": {},
     "output_type": "display_data"
    }
   ],
   "source": [
    "#graph\n",
    "inv_trunc1 = find_inverse(truncate_1)\n",
    "graph_accel(inv_trunc1[:,6])\n",
    "plt.title('k = 1')\n",
    "pylab.savefig('accel_haar_inverse_trunc1.png')"
   ]
  },
  {
   "cell_type": "markdown",
   "metadata": {},
   "source": [
    "3) Do the same thing with the first 2^(n-k) entries, for k = 2, 3 and 4, graphing each result. Briefly describe (1 to 2 sentences) what happens as k increases.\n",
    "\n",
    "as k increases, we lose more and more information about the differences between the points of the signal,thus the graph smooths more and more. We lose a lot of small peaks."
   ]
  },
  {
   "cell_type": "code",
   "execution_count": 68,
   "metadata": {
    "collapsed": false
   },
   "outputs": [],
   "source": [
    "#k = 2\n",
    "truncate_2 = truncate(accel_X, 2)\n",
    "#find inverse\n",
    "inv_trunc2 = find_inverse(truncate_2)"
   ]
  },
  {
   "cell_type": "code",
   "execution_count": 77,
   "metadata": {
    "collapsed": false
   },
   "outputs": [
    {
     "data": {
      "image/png": "[encoded data removed]",
      "text/plain": [
       "<matplotlib.figure.Figure at 0x10679f250>"
      ]
     },
     "metadata": {},
     "output_type": "display_data"
    }
   ],
   "source": [
    "#graph\n",
    "graph_accel(inv_trunc2[:,6])\n",
    "plt.title('k = 2')\n",
    "pylab.savefig('accel_haar_inverse_trunc2.png')"
   ]
  },
  {
   "cell_type": "code",
   "execution_count": 70,
   "metadata": {
    "collapsed": false
   },
   "outputs": [],
   "source": [
    "#k=3\n",
    "truncate_3 = truncate(accel_X, 3)\n",
    "inv_trunc3 = find_inverse(truncate_3)\n"
   ]
  },
  {
   "cell_type": "code",
   "execution_count": 79,
   "metadata": {
    "collapsed": false
   },
   "outputs": [
    {
     "data": {
      "image/png": "[encoded data removed]",
      "text/plain": [
       "<matplotlib.figure.Figure at 0x114669cd0>"
      ]
     },
     "metadata": {},
     "output_type": "display_data"
    }
   ],
   "source": [
    "#graph\n",
    "graph_accel(inv_trunc3[:,6])\n",
    "plt.title('k = 3')\n",
    "pylab.savefig('accel_haar_inverse_trunc3.png')"
   ]
  },
  {
   "cell_type": "code",
   "execution_count": 72,
   "metadata": {
    "collapsed": true
   },
   "outputs": [],
   "source": [
    "#k=4\n",
    "truncate_4 = truncate(accel_X, 4)\n",
    "inv_trunc4 = find_inverse(truncate_4)"
   ]
  },
  {
   "cell_type": "code",
   "execution_count": 80,
   "metadata": {
    "collapsed": false
   },
   "outputs": [
    {
     "data": {
      "image/png": "[encoded data removed]",
      "text/plain": [
       "<matplotlib.figure.Figure at 0x10a77c090>"
      ]
     },
     "metadata": {},
     "output_type": "display_data"
    }
   ],
   "source": [
    "#graph\n",
    "graph_accel(inv_trunc4[:,6])\n",
    "plt.title('k = 4')\n",
    "pylab.savefig('accel_haar_inverse_trunc4.png')"
   ]
  },
  {
   "cell_type": "markdown",
   "metadata": {
    "collapsed": true
   },
   "source": [
    "### Task 3: Aligning Audio Signals\n",
    "A. Using STFT"
   ]
  },
  {
   "cell_type": "markdown",
   "metadata": {},
   "source": [
    "1. Choose 4 tracks out of the provided 8, and set one of them as your reference track. You can choose yourself which tracks you use, but write their names next to the plots.\n",
    "1.wav 2.wav 3.wav 4.wav"
   ]
  },
  {
   "cell_type": "code",
   "execution_count": 26,
   "metadata": {
    "collapsed": false
   },
   "outputs": [],
   "source": [
    "import scipy.io.wavfile\n",
    "def question1(path, title, savepath):\n",
    "\trate, data = scipy.io.wavfile.read(path)\n",
    "\tif len(data.shape) > 1:\n",
    "\t\tdata = data[:,0]\n",
    "\ty = data\n",
    "\tx = range(0,len(data))\n",
    "\tpylab.plot(x, y)\n",
    "\tpylab.title(title)\n",
    "\tpylab.savefig(savepath)\n",
    "\tpylab.close()\n",
    "\treturn rate,y\t"
   ]
  },
  {
   "cell_type": "code",
   "execution_count": 27,
   "metadata": {
    "collapsed": false
   },
   "outputs": [
    {
     "data": {
      "text/plain": [
       "(44100, array([-20, -18, -15, ...,   1,   1,   1], dtype=int16))"
      ]
     },
     "execution_count": 27,
     "metadata": {},
     "output_type": "execute_result"
    }
   ],
   "source": [
    "question1('./Data/tracks/1.wav', '1.wav', '1wav.png')\n",
    "question1('./Data/tracks/2.wav', '2.wav', '2wav.png')\n",
    "question1('./Data/tracks/3.wav', '3.wav', '3wav.png')\n",
    "question1('./Data/tracks/4.wav', '4.wav', '4wav.png')"
   ]
  },
  {
   "cell_type": "markdown",
   "metadata": {},
   "source": [
    "2. Write a function which computes all the peaks of a transformed signal X which are the biggest values in a 20 x 20 surrounding grid (K=20)."
   ]
  },
  {
   "cell_type": "code",
   "execution_count": 42,
   "metadata": {
    "collapsed": true
   },
   "outputs": [],
   "source": [
    "def compute(data, K):\n",
    "\tans = []\n",
    "\tyt = [0]*len(data)\n",
    "\tfor i in range(0, len(data) - K + 1):\n",
    "\t\tfor j in range(0, len(data[0]) - K + 1):\n",
    "\t\t\tX = data[i:i+K,j:j+K]\n",
    "\t\t\tindex = np.argmax(X) \n",
    "\t\t\tmax_ = np.max(X)\n",
    "\t\t\tf = index%20\n",
    "\t\t\ts = (index - index%20)/20\n",
    "\t\t\tif (f == K/2) & (s == K/2):\n",
    "\t\t\t\ttuple_s = (s+i,f+j)\n",
    "\t\t\t\tans.append(tuple_s)\n",
    "\t\t\t\tyt[s+i] = max_\n",
    "\treturn ans, yt"
   ]
  },
  {
   "cell_type": "code",
   "execution_count": 81,
   "metadata": {
    "collapsed": false
   },
   "outputs": [],
   "source": [
    "import Python.audio_example\n",
    "\n",
    "#provided start and end points\n",
    "start = [3.07, 0, 0.92, 4.21, 3.57]\n",
    "end = [4.11, 1.24, 1.97, 5.32, 4.61]\n",
    "yt_ = []\n",
    "for i in range(0,5):\n",
    "    name = str(i+1)\n",
    "    if i == 4:\n",
    "        name = 'Rerecord'\n",
    "    [rate, data] = question1('./Data/tracks/' + name + '.wav', name + '.wav', name + 'wav.png')\n",
    "    X = Python.audio_example.stft(data[0:10*rate]) \n",
    "    Python.audio_example.plot_transform(X)\n",
    "    plt.title('spectogram_' + name)\n",
    "    pylab.savefig('spectogram' + name + '.png')\n",
    "    pylab.close()\n",
    "    [peaks, yt] = compute(X, 20)\n",
    "    Python.audio_example.plot_peaks(peaks, start[i]*rate/2048, end[i]*rate/2048)\n",
    "    pylab.xlim([0,207])\n",
    "    plt.title('peaks_' + name)\n",
    "    pylab.savefig('peaks_' + name + '.png')\n",
    "    pylab.close()\n",
    "    pylab.xlim([0,207])\n",
    "    yt_.append(yt)\n",
    "#     pylab.plot(yt)\n",
    "#     plt.title('yt_array_' + name)\n",
    "#     pylab.savefig('yt_array' + name + '.png')\n",
    "    pylab.close()\n",
    "\n",
    "    if i != 0:\n",
    "        cross_correlation = np.correlate(yt_[0], yt_[i], 'full')\n",
    "        pylab.plot(cross_correlation)\n",
    "        pylab.savefig('cross_correlation_' + name + '.png')\n",
    "        pylab.close()\n"
   ]
  },
  {
   "cell_type": "code",
   "execution_count": 94,
   "metadata": {
    "collapsed": false
   },
   "outputs": [
    {
     "data": {
      "text/plain": [
       "[<matplotlib.lines.Line2D at 0x10a784550>]"
      ]
     },
     "execution_count": 94,
     "metadata": {},
     "output_type": "execute_result"
    },
    {
     "data": {
      "image/png": "[encoded data removed]",
      "text/plain": [
       "<matplotlib.figure.Figure at 0x1136c6fd0>"
      ]
     },
     "metadata": {},
     "output_type": "display_data"
    }
   ],
   "source": [
    "pylab.plot(np.correlate(yt_[0], yt_[0], 'full'))"
   ]
  },
  {
   "cell_type": "markdown",
   "metadata": {},
   "source": [
    "B. Using Haar wavelets"
   ]
  },
  {
   "cell_type": "code",
   "execution_count": 101,
   "metadata": {
    "collapsed": true
   },
   "outputs": [],
   "source": [
    "def short_time_haar(x, window_len=4096, window_shift=2048):\n",
    "\thaar_result = []\n",
    "\thaar1_result = []\n",
    "\tfor i in range(0, len(x)-window_len, window_shift):\n",
    "\t\thaar_result.append(haar(np.array(x[i:i+window_len])))\n",
    "\treturn sp.absolute(haar_result)"
   ]
  },
  {
   "cell_type": "code",
   "execution_count": 103,
   "metadata": {
    "collapsed": false
   },
   "outputs": [],
   "source": [
    "for i in range(0,5):\n",
    "\t\tname = str(i+1)\n",
    "\t\tif i == 4:\n",
    "\t\t\tname = 'Rerecord'\n",
    "\t\trate, data = sp.io.wavfile.read('./Data/tracks/' + name + '.wav')\n",
    "\t\tif len(data.shape) > 1:\n",
    "\t\t\tdata = data[:,0]\n",
    "\t\tX = np.array(short_time_haar(data[0:10*rate]))\n",
    "\t\tPython.audio_example.plot_transform(X)\n",
    "\t\tpylab.savefig('haar_spectogram' + name + '.png')\n",
    "\t\tpylab.close()\n"
   ]
  },
  {
   "cell_type": "code",
   "execution_count": null,
   "metadata": {
    "collapsed": true
   },
   "outputs": [],
   "source": []
  }
 ],
 "metadata": {
  "kernelspec": {
   "display_name": "Python 2",
   "language": "python",
   "name": "python2"
  },
  "language_info": {
   "codemirror_mode": {
    "name": "ipython",
    "version": 2
   },
   "file_extension": ".py",
   "mimetype": "text/x-python",
   "name": "python",
   "nbconvert_exporter": "python",
   "pygments_lexer": "ipython2",
   "version": "2.7.9"
  }
 },
 "nbformat": 4,
 "nbformat_minor": 0
}
